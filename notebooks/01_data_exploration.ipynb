{
 "cells": [
  {
   "cell_type": "markdown",
   "id": "04b99b7d",
   "metadata": {},
   "source": [
    "# This notebook ingests raw WTI and Brent futures time series and performs exploratory data analysis (EDA)."
   ]
  },
  {
   "cell_type": "markdown",
   "id": "1ed1693a",
   "metadata": {},
   "source": [
    "## 1.1 Data loading routines from the src/data_ingestion modules"
   ]
  },
  {
   "cell_type": "code",
   "execution_count": null,
   "id": "5a554b39",
   "metadata": {},
   "outputs": [],
   "source": []
  },
  {
   "cell_type": "markdown",
   "id": "3e2881ae",
   "metadata": {},
   "source": [
    "## 1.2 Time-series visualizations of price levels and spreads"
   ]
  },
  {
   "cell_type": "code",
   "execution_count": null,
   "id": "17667ad7",
   "metadata": {},
   "outputs": [],
   "source": []
  },
  {
   "cell_type": "markdown",
   "id": "2e7d70bd",
   "metadata": {},
   "source": [
    "## 1.3 Statistical summaries: stationarity tests, autocorrelation plots, seasonality diagnostics"
   ]
  },
  {
   "cell_type": "code",
   "execution_count": null,
   "id": "bc7f8aa0",
   "metadata": {},
   "outputs": [],
   "source": []
  },
  {
   "cell_type": "markdown",
   "id": "b8f03c2c",
   "metadata": {},
   "source": [
    "## 1.4 Outlier detection and missing-value patterns to inform downstream cleaning"
   ]
  },
  {
   "cell_type": "code",
   "execution_count": null,
   "id": "ae4e9cbc",
   "metadata": {},
   "outputs": [],
   "source": []
  }
 ],
 "metadata": {
  "kernelspec": {
   "display_name": ".venv",
   "language": "python",
   "name": "python3"
  },
  "language_info": {
   "name": "python",
   "version": "3.12.3"
  }
 },
 "nbformat": 4,
 "nbformat_minor": 5
}
